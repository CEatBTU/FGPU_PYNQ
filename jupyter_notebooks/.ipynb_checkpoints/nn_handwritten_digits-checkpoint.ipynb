{
 "cells": [
  {
   "cell_type": "markdown",
   "metadata": {},
   "source": [
    "# Handwritten recognition\n"
   ]
  },
  {
   "cell_type": "markdown",
   "metadata": {},
   "source": [
    "This kernel runs a Neural Network based on two Fully Connected layers, that classifies a handwritten digit"
   ]
  },
  {
   "cell_type": "markdown",
   "metadata": {},
   "source": [
    "### Import input image"
   ]
  },
  {
   "cell_type": "code",
   "execution_count": 1,
   "metadata": {
    "scrolled": true
   },
   "outputs": [
    {
     "data": {
      "application/javascript": [
       "\n",
       "try {\n",
       "require(['notebook/js/codecell'], function(codecell) {\n",
       "  codecell.CodeCell.options_default.highlight_modes[\n",
       "      'magic_text/x-csrc'] = {'reg':[/^%%microblaze/]};\n",
       "  Jupyter.notebook.events.one('kernel_ready.Kernel', function(){\n",
       "      Jupyter.notebook.get_cells().map(function(cell){\n",
       "          if (cell.cell_type == 'code'){ cell.auto_highlight(); } }) ;\n",
       "  });\n",
       "});\n",
       "} catch (e) {};\n"
      ]
     },
     "metadata": {},
     "output_type": "display_data"
    },
    {
     "data": {
      "application/javascript": [
       "\n",
       "try {\n",
       "require(['notebook/js/codecell'], function(codecell) {\n",
       "  codecell.CodeCell.options_default.highlight_modes[\n",
       "      'magic_text/x-csrc'] = {'reg':[/^%%pybind11/]};\n",
       "  Jupyter.notebook.events.one('kernel_ready.Kernel', function(){\n",
       "      Jupyter.notebook.get_cells().map(function(cell){\n",
       "          if (cell.cell_type == 'code'){ cell.auto_highlight(); } }) ;\n",
       "  });\n",
       "});\n",
       "} catch (e) {};\n"
      ]
     },
     "metadata": {},
     "output_type": "display_data"
    }
   ],
   "source": [
    "from pynq import allocate\n",
    "import struct\n",
    "import h5py\n",
    "import numpy as np\n",
    "from decimal import *\n",
    "\n",
    "src_float = allocate(shape=(784,), dtype='float32')\n",
    "\n",
    "f = open(\"params/image_7.h\", 'r')\n",
    "index=0\n",
    "data = f.readline()\n",
    "data_string = str(data)\n",
    "data_joined = ''.join(data_string)\n",
    "data_list = data_joined.split(', ')\n",
    "\n",
    "for item in data_list:\n",
    "    #print(item + \" \" + str(index))\n",
    "    src_float[index]=item\n",
    "    index+=1\n",
    "\n",
    "# f.close()"
   ]
  },
  {
   "cell_type": "markdown",
   "metadata": {},
   "source": [
    "### Load network parameters from h5 file"
   ]
  },
  {
   "cell_type": "code",
   "execution_count": 4,
   "metadata": {},
   "outputs": [
    {
     "data": {
      "text/plain": [
       "0.26624438"
      ]
     },
     "execution_count": 4,
     "metadata": {},
     "output_type": "execute_result"
    }
   ],
   "source": [
    "getcontext().prec = 5\n",
    "f = h5py.File('params/2fc.h5', 'r')\n",
    "list(f.keys())\n",
    "\n",
    "# Fully connected 1 \n",
    "dset1 = f['dense_3']\n",
    "fc_1= dset1['dense_3']\n",
    "#bias\n",
    "fc_1_bias = fc_1['bias:0']\n",
    "fc_1_bias[0]\n",
    "#weights\n",
    "fc_1_weights=fc_1['kernel:0']\n",
    "fc_1_weights[0,0]  \n",
    "\n",
    "# Fully connected 2\n",
    "dset2 = f['dense_4']\n",
    "fc_2= dset2['dense_4']\n",
    "#bias\n",
    "fc_2_bias = fc_2['bias:0']\n",
    "fc_2_bias[0]   \n",
    "#weights\n",
    "fc_2_weights=fc_2['kernel:0']\n",
    "fc_2_weights[0,0]"
   ]
  },
  {
   "cell_type": "markdown",
   "metadata": {},
   "source": [
    "### Fit parameters into python variables"
   ]
  },
  {
   "cell_type": "code",
   "execution_count": 5,
   "metadata": {},
   "outputs": [],
   "source": [
    "weights_1_float = allocate(shape=(78400,), dtype='float32')\n",
    "biases_1_float = allocate(shape=(100,), dtype='float32')\n",
    "weights_2_float = allocate(shape=(1000,), dtype='float32')\n",
    "biases_2_float = allocate(shape=(10,), dtype='float32')\n",
    "\n",
    "#FC1            \n",
    "i=0\n",
    "j=0\n",
    "helper=0\n",
    "for i in range(100):\n",
    "    for j in range(784):\n",
    "        weights_1_float[helper]=fc_1_weights[j][i]\n",
    "        helper+=1\n",
    "i=0\n",
    "for i in range(100):\n",
    "    biases_1_float[i]=fc_1_bias[i]\n",
    "#FC2\n",
    "i=0\n",
    "j=0\n",
    "helper=0\n",
    "for i in range(10):\n",
    "    for j in range(100):\n",
    "        weights_2_float[helper]=fc_2_weights[j][i]\n",
    "        helper+=1\n",
    "i=0\n",
    "helper=0\n",
    "for i in range(10):\n",
    "    biases_2_float[i]=fc_2_bias[i]"
   ]
  },
  {
   "cell_type": "markdown",
   "metadata": {},
   "source": [
    "## Kernel Code\n",
    "The OpenCL code of your kernel can be edited here. It will be atomatically saved to the file named in the first line."
   ]
  },
  {
   "cell_type": "code",
   "execution_count": 7,
   "metadata": {},
   "outputs": [
    {
     "name": "stdout",
     "output_type": "stream",
     "text": [
      "Writing ../OpenCL_code/FC.cl\n"
     ]
    }
   ],
   "source": [
    "%%writefile OpenCL_code/FC.cl\n",
    "\n",
    "#include \"FGPUlib.c\"\n",
    "\n",
    "__kernel void copy_word(const __global float *in_src, __global float *output, __global float *weights, __global float *biases, int input_size) {\n",
    "    int output_node = get_global_id(0);\n",
    "    float res = 0.0;\n",
    "    for (int j=0; j<input_size; j++){\n",
    "        res += in_src[j] * weights[output_node * input_size + j];\n",
    "    }\n",
    "    res += biases[output_node];\n",
    "    output[output_node]=res;\n",
    "}"
   ]
  },
  {
   "cell_type": "markdown",
   "metadata": {},
   "source": [
    "## Import FGPU package"
   ]
  },
  {
   "cell_type": "code",
   "execution_count": 8,
   "metadata": {},
   "outputs": [],
   "source": [
    "import sys\n",
    "sys.path.append(\"../FGPU/FGPU\")\n",
    "from FGPU import FGPU\n",
    "fgpu= FGPU()"
   ]
  },
  {
   "cell_type": "markdown",
   "metadata": {},
   "source": [
    "## Program Hardware"
   ]
  },
  {
   "cell_type": "markdown",
   "metadata": {},
   "source": [
    "### Download the bitstream to the board"
   ]
  },
  {
   "cell_type": "code",
   "execution_count": 11,
   "metadata": {},
   "outputs": [],
   "source": [
    "fgpu.set_bitFile(\"../bitstreams/PYNQ/1CU_fp_100MHz.bit\")\n",
    "fgpu.download_bitstream()"
   ]
  },
  {
   "cell_type": "markdown",
   "metadata": {},
   "source": [
    "## Compile Kernel"
   ]
  },
  {
   "cell_type": "markdown",
   "metadata": {},
   "source": [
    "#### compile_kernels parameters: \n",
    "0 (true/false) -> output the logs (print compiled code as objdump)\n",
    "\n",
    "1 (true/false) -> floating point support"
   ]
  },
  {
   "cell_type": "code",
   "execution_count": 13,
   "metadata": {
    "scrolled": true
   },
   "outputs": [
    {
     "name": "stdout",
     "output_type": "stream",
     "text": [
      "Compiling /home/xilinx/jupyter_notebooks/FGPU/notebooks/OpenCL_code/FC.cl\n",
      "Compiling succeeded!\n",
      "\n",
      "\n",
      "\n",
      "/home/xilinx/tmp/FGPU_IPython/FGPU/code.bin:\tfile format ELF32-fgpu\n",
      "\n",
      "Disassembly of section .text:\n",
      "copy_word:\n",
      "       0:\t03 00 00 19 \tli\tr3, 0\n",
      "       4:\t03 00 00 1d \tlui\tr3, 0\n",
      "       8:\t01 04 00 11 \taddi\tr1, r0, 1\n",
      "       c:\t85 00 00 a8 \tlp\tr5, 4\n",
      "      10:\ta6 04 00 b2 \tslt\tr6, r5, r1\n",
      "      14:\t64 00 00 a8 \tlp\tr4, 3\n",
      "      18:\t22 00 00 a8 \tlp\tr2, 1\n",
      "      1c:\t07 00 00 a0 \tlid\tr7, 0\n",
      "      20:\t08 00 00 a1 \twgoff\tr8, 0\n",
      "      24:\t01 1d 00 10 \tadd\tr1, r8, r7\n",
      "      28:\t06 40 00 63 \tbne\tr6, r0, 16\n",
      "      2c:\t43 00 00 a8 \tlp\tr3, 2\n",
      "      30:\t06 00 00 a8 \tlp\tr6, 0\n",
      "      34:\ta7 04 00 51 \tmul\tr7, r5, r1\n",
      "      38:\te7 08 00 21 \tslli\tr7, r7, 2\n",
      "      3c:\t67 1c 00 10 \tadd\tr7, r3, r7\n",
      "      40:\t03 00 00 19 \tli\tr3, 0\n",
      "      44:\t03 00 00 1d \tlui\tr3, 0\n",
      "\n",
      "LBB0_3:\n",
      "      48:\t08 1c 00 74 \tlw\tr8, r7[r0]\n",
      "      4c:\t09 18 00 74 \tlw\tr9, r6[r0]\n",
      "      50:\t28 21 00 c1 \tfmul\tr8, r9, r8\n",
      "      54:\t63 20 00 c0 \tfadd\tr3, r3, r8\n",
      "      58:\tc6 10 00 11 \taddi\tr6, r6, 4\n",
      "      5c:\te7 10 00 11 \taddi\tr7, r7, 4\n",
      "      60:\ta5 fc ff 11 \taddi\tr5, r5, -1\n",
      "      64:\t05 04 00 62 \tbeq\tr5, r0, 1\n",
      "      68:\t00 dc ff 62 \tbeq\tr0, r0, -9\n",
      "\n",
      "LBB0_2:\n",
      "      6c:\t24 10 00 74 \tlw\tr4, r4[r1]\n",
      "      70:\t63 10 00 c0 \tfadd\tr3, r3, r4\n",
      "      74:\t23 08 00 7c \tsw\tr3, r2[r1]\n",
      "      78:\t00 00 00 92 \tret\n",
      "\n"
     ]
    }
   ],
   "source": [
    "fgpu.set_kernel_file(\"OpenCL_code/FC.cl\")\n",
    "fgpu.compile_kernel(True, True)"
   ]
  },
  {
   "cell_type": "markdown",
   "metadata": {},
   "source": [
    "## Allocate Memory"
   ]
  },
  {
   "cell_type": "markdown",
   "metadata": {},
   "source": [
    "#### Transform parameters from float to int (so that it can be interpreted fine and sent via MMIO)"
   ]
  },
  {
   "cell_type": "code",
   "execution_count": 15,
   "metadata": {},
   "outputs": [],
   "source": [
    "src = allocate(shape=(784,), dtype='int')\n",
    "out_fc1 = allocate(shape=(100,), dtype='int')\n",
    "dst = allocate(shape=(10,), dtype='int')\n",
    "weights_1_64 = allocate(shape=(78400,), dtype='int64')\n",
    "biases_1_64 = allocate(shape=(100,), dtype='int64')\n",
    "weights_2_64 = allocate(shape=(1000,), dtype='int64')\n",
    "biases_2_64 = allocate(shape=(10,), dtype='int64')\n",
    "\n",
    "weights_1 = allocate(shape=(78400,), dtype='int')\n",
    "biases_1 = allocate(shape=(100,), dtype='int')\n",
    "weights_2 = allocate(shape=(1000,), dtype='int')\n",
    "biases_2 = allocate(shape=(10,), dtype='int')\n",
    "input_size_1 = 784\n",
    "input_size_2 = 100\n",
    "\n",
    "for i in range(0, 100):\n",
    "    biases_1_64[i]=int(struct.unpack('<I', struct.pack('<f', biases_1_float[i]))[0])\n",
    "    biases_1[i] = biases_1_64[i].astype(np.int32)\n",
    "    \n",
    "for i in range(0, 10):\n",
    "    biases_2_64[i]=int(struct.unpack('<I', struct.pack('<f', biases_2_float[i]))[0])\n",
    "    biases_2[i] = biases_2_64[i].astype(np.int32)\n",
    "    \n",
    "for i in range(0, 1000):\n",
    "    weights_2_64[i]=int(struct.unpack('<I', struct.pack('<f', weights_2_float[i]))[0])\n",
    "    weights_2[i] = weights_2_64[i].astype(np.int32)\n",
    "    \n",
    "for i in range(0,784):\n",
    "    src[i]=int(struct.unpack('<I', struct.pack('<f', src_float[i]))[0])\n",
    "    \n",
    "for i in range(0, 78400):\n",
    "    weights_1_64[i]=int(struct.unpack('<I', struct.pack('<f', weights_1_float[i]))[0])\n",
    "    weights_1[i] = weights_1_64[i].astype(np.int32)"
   ]
  },
  {
   "cell_type": "markdown",
   "metadata": {},
   "source": [
    "## Configure Kernel"
   ]
  },
  {
   "cell_type": "markdown",
   "metadata": {},
   "source": [
    "### Run 1st FC"
   ]
  },
  {
   "cell_type": "markdown",
   "metadata": {},
   "source": [
    "#### Fill in host code parameters"
   ]
  },
  {
   "cell_type": "code",
   "execution_count": 16,
   "metadata": {},
   "outputs": [],
   "source": [
    "fgpu.set_paramerter(0, src)\n",
    "fgpu.set_paramerter(1, out_fc1)\n",
    "fgpu.set_paramerter(2, weights_1)\n",
    "fgpu.set_paramerter(3, biases_1)\n",
    "fgpu.set_paramerter(4, input_size_1)\n",
    "# setup index space\n",
    "fgpu.set_num_dimensions(1)\n",
    "fgpu.set_size(100)\n",
    "fgpu.set_work_group_size(1)\n",
    "fgpu.set_offset(0)"
   ]
  },
  {
   "cell_type": "markdown",
   "metadata": {},
   "source": [
    "#### Execute on FGPU"
   ]
  },
  {
   "cell_type": "code",
   "execution_count": 20,
   "metadata": {},
   "outputs": [
    {
     "name": "stdout",
     "output_type": "stream",
     "text": [
      "Execution time = 175737 us\n"
     ]
    }
   ],
   "source": [
    "fgpu.download_kernel()\n",
    "#execute and wait until finish\n",
    "execTime = fgpu.execute_kernel()\n",
    "print (\"Execution time =\", int(execTime*1000000), \"us\")"
   ]
  },
  {
   "cell_type": "markdown",
   "metadata": {},
   "source": [
    "ReLu"
   ]
  },
  {
   "cell_type": "code",
   "execution_count": 21,
   "metadata": {},
   "outputs": [],
   "source": [
    "for i in range(0,100):\n",
    "    if out_fc1[i] < 0:\n",
    "        out_fc1[i] = 0"
   ]
  },
  {
   "cell_type": "markdown",
   "metadata": {},
   "source": [
    "### Run 2nd FC"
   ]
  },
  {
   "cell_type": "markdown",
   "metadata": {},
   "source": [
    "#### Fill in host code parameters"
   ]
  },
  {
   "cell_type": "code",
   "execution_count": 23,
   "metadata": {},
   "outputs": [],
   "source": [
    "fgpu.set_paramerter(0, out_fc1)\n",
    "fgpu.set_paramerter(1, dst)\n",
    "fgpu.set_paramerter(2, weights_2)\n",
    "fgpu.set_paramerter(3, biases_2)\n",
    "fgpu.set_paramerter(4, input_size_2)\n",
    "# setup index space\n",
    "fgpu.set_num_dimensions(1)\n",
    "fgpu.set_size(10)\n",
    "fgpu.set_work_group_size(1)\n",
    "fgpu.set_offset(0)"
   ]
  },
  {
   "cell_type": "markdown",
   "metadata": {},
   "source": [
    "#### Execute on FGPU"
   ]
  },
  {
   "cell_type": "code",
   "execution_count": 24,
   "metadata": {},
   "outputs": [
    {
     "name": "stdout",
     "output_type": "stream",
     "text": [
      "Execution time = 2804 us\n"
     ]
    }
   ],
   "source": [
    "fgpu.download_kernel()\n",
    "#execute and wait until finish\n",
    "execTime = fgpu.execute_kernel()\n",
    "print (\"Execution time =\", int(execTime*1000000), \"us\")"
   ]
  },
  {
   "cell_type": "markdown",
   "metadata": {},
   "source": [
    "#### Check results and do softmax"
   ]
  },
  {
   "cell_type": "code",
   "execution_count": 25,
   "metadata": {
    "scrolled": true
   },
   "outputs": [
    {
     "name": "stdout",
     "output_type": "stream",
     "text": [
      "-1.8715659379959106\n",
      "-11.567303657531738\n",
      "-0.529619038105011\n",
      "1.7135339975357056\n",
      "-12.922592163085938\n",
      "-4.173733234405518\n",
      "-17.23069190979004\n",
      "9.489047050476074\n",
      "-4.112046718597412\n",
      "0.9857190847396851\n"
     ]
    }
   ],
   "source": [
    "res_arr = allocate(shape=(10,), dtype='float')\n",
    "\n",
    "for i in range(10):\n",
    "    res=struct.unpack('f',dst[i])\n",
    "    print(res[0])\n",
    "    res_arr[i]=res[0]\n",
    "    "
   ]
  },
  {
   "cell_type": "code",
   "execution_count": 26,
   "metadata": {},
   "outputs": [],
   "source": [
    "import math\n",
    "sum=0.0\n",
    "for i in range(0,10):\n",
    "    sum += math.exp(res_arr[i])\n",
    "for i in range(0,10):\n",
    "    res_arr[i]=(math.exp(res_arr[i]))/sum"
   ]
  },
  {
   "cell_type": "markdown",
   "metadata": {},
   "source": [
    "### Classifier result:"
   ]
  },
  {
   "cell_type": "code",
   "execution_count": 27,
   "metadata": {},
   "outputs": [
    {
     "name": "stdout",
     "output_type": "stream",
     "text": [
      "The digit was classified as:  7\n"
     ]
    }
   ],
   "source": [
    "max_val = res_arr[0]\n",
    "index=0\n",
    "for i in range(0,10):\n",
    "    if res_arr[i]>max_val :\n",
    "        max_val = res_arr[i]\n",
    "        index=i\n",
    "print(\"The digit was classified as: \", index)"
   ]
  }
 ],
 "metadata": {
  "kernelspec": {
   "display_name": "Python 3",
   "language": "python",
   "name": "python3"
  },
  "language_info": {
   "codemirror_mode": {
    "name": "ipython",
    "version": 3
   },
   "file_extension": ".py",
   "mimetype": "text/x-python",
   "name": "python",
   "nbconvert_exporter": "python",
   "pygments_lexer": "ipython3",
   "version": "3.8.10"
  }
 },
 "nbformat": 4,
 "nbformat_minor": 1
}
