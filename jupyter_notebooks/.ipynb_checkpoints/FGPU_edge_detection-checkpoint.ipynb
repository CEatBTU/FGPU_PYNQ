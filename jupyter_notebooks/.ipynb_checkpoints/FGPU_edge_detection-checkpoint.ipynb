{
 "cells": [
  {
   "cell_type": "markdown",
   "metadata": {},
   "source": [
    "# Image Edge Detection\n",
    "This kernel applies a compass edge detection filter on a grayscale image using sobel operators on 8 directions.\n",
    "\n",
    "Each pixel in the input or output images is packed in a 32bit word."
   ]
  },
  {
   "cell_type": "markdown",
   "metadata": {},
   "source": [
    "## Kernel Code\n",
    "The OpenCL code of your kernel can be edited here. It will be atomatically saved to the file named in the first line."
   ]
  },
  {
   "cell_type": "code",
   "execution_count": 2,
   "metadata": {},
   "outputs": [
    {
     "name": "stdout",
     "output_type": "stream",
     "text": [
      "Overwriting ../OpenCL_code/compass_edge_detection.cl\n"
     ]
    }
   ],
   "source": [
    "%%writefile OpenCL_code/compass_edge_detection.cl\n",
    "#include \"FGPUlib.c\"\n",
    "\n",
    "__kernel void compass_edge_detection(__global unsigned *in, __global unsigned *out)\n",
    "{\n",
    "  unsigned x = get_global_id(1);\n",
    "  unsigned y = get_global_id(0);\n",
    "  unsigned rowLen = get_global_size(0);\n",
    "\n",
    "\n",
    "  // return on boarder pixels\n",
    "  bool border =  x < 1 | y < 1 | (x>rowLen-2) | (y>rowLen-2);\n",
    "  if(border) \n",
    "    return;\n",
    "  //read pixels\n",
    "  unsigned p[3][3];\n",
    "  unsigned p00 = in[(x-1)*rowLen+y-1];\n",
    "  unsigned p01 = in[(x-1)*rowLen+y];\n",
    "  unsigned p02 = in[(x-1)*rowLen+y+1];\n",
    "  unsigned p10 = in[x*rowLen+y-1];\n",
    "  unsigned p11 = in[x*rowLen+y];\n",
    "  unsigned p12 = in[x*rowLen+y+1];\n",
    "  unsigned p20 = in[(x+1)*rowLen+y-1];\n",
    "  unsigned p21 = in[(x+1)*rowLen+y];\n",
    "  unsigned p22 = in[(x+1)*rowLen+y+1];\n",
    "  int G[8] = {0};\n",
    "  //find edges in 4 directions\n",
    "  G[0] =  -1*p00 +0*p01 +1*p02 +\n",
    "          -2*p10 +0*p11 +2*p12 +\n",
    "          -1*p20 +0*p21 +1*p22;\n",
    "  G[1] =  -2*p00 -1*p01 +0*p02 +\n",
    "          -1*p10 +0*p11 +1*p12 +\n",
    "          -0*p20 +1*p21 +2*p22;\n",
    "  G[2] =  -1*p00 -2*p01 -1*p02 +\n",
    "          -0*p10 +0*p11 +0*p12 +\n",
    "          +1*p20 +2*p21 +1*p22;\n",
    "  G[3] =  -0*p00 -1*p01 -2*p02 +\n",
    "          +1*p10 +0*p11 -1*p12 +\n",
    "          +2*p20 +1*p21 +0*p22;\n",
    "  //compute the edges in the remaining 4 directions by inversion\n",
    "  G[4] = -G[0];\n",
    "  G[5] = -G[1];\n",
    "  G[6] = -G[2];\n",
    "  G[7] = -G[3];\n",
    "  //taking the maximum value on all directions\n",
    "  int max_val = G[0], i;\n",
    "  for(i = 1; i < 8; i++)\n",
    "    max_val = G[i] < max_val ? max_val:G[i];\n",
    "  //write the result to output\n",
    "  out[x*rowLen+y] = max_val;\n",
    "}\n"
   ]
  },
  {
   "cell_type": "markdown",
   "metadata": {},
   "source": [
    "## Create Objects"
   ]
  },
  {
   "cell_type": "code",
   "execution_count": 3,
   "metadata": {
    "scrolled": false
   },
   "outputs": [
    {
     "data": {
      "application/javascript": [
       "\n",
       "try {\n",
       "require(['notebook/js/codecell'], function(codecell) {\n",
       "  codecell.CodeCell.options_default.highlight_modes[\n",
       "      'magic_text/x-csrc'] = {'reg':[/^%%microblaze/]};\n",
       "  Jupyter.notebook.events.one('kernel_ready.Kernel', function(){\n",
       "      Jupyter.notebook.get_cells().map(function(cell){\n",
       "          if (cell.cell_type == 'code'){ cell.auto_highlight(); } }) ;\n",
       "  });\n",
       "});\n",
       "} catch (e) {};\n"
      ]
     },
     "metadata": {},
     "output_type": "display_data"
    },
    {
     "data": {
      "application/javascript": [
       "\n",
       "try {\n",
       "require(['notebook/js/codecell'], function(codecell) {\n",
       "  codecell.CodeCell.options_default.highlight_modes[\n",
       "      'magic_text/x-csrc'] = {'reg':[/^%%pybind11/]};\n",
       "  Jupyter.notebook.events.one('kernel_ready.Kernel', function(){\n",
       "      Jupyter.notebook.get_cells().map(function(cell){\n",
       "          if (cell.cell_type == 'code'){ cell.auto_highlight(); } }) ;\n",
       "  });\n",
       "});\n",
       "} catch (e) {};\n"
      ]
     },
     "metadata": {},
     "output_type": "display_data"
    }
   ],
   "source": [
    "import sys\n",
    "sys.path.append(\"../FGPU/FGPU\")\n",
    "from FGPU import FGPU\n",
    "\n",
    "fgpu= FGPU()"
   ]
  },
  {
   "cell_type": "markdown",
   "metadata": {},
   "source": [
    "## Program Hardware"
   ]
  },
  {
   "cell_type": "code",
   "execution_count": 4,
   "metadata": {},
   "outputs": [],
   "source": [
    "fgpu.set_bitFile(\"../bitstreams/PYNQ/1CU_fp_100MHz.bit\")\n",
    "fgpu.download_bitstream()"
   ]
  },
  {
   "cell_type": "markdown",
   "metadata": {},
   "source": [
    "## Compile Kernel"
   ]
  },
  {
   "cell_type": "markdown",
   "metadata": {},
   "source": [
    "#### compile_kernels parameters: \n",
    "0 (true/false) -> output the logs (print compiled code as objdump)\n",
    "\n",
    "1 (true/false) -> floating point support"
   ]
  },
  {
   "cell_type": "code",
   "execution_count": 6,
   "metadata": {},
   "outputs": [
    {
     "name": "stdout",
     "output_type": "stream",
     "text": [
      "Compiling /home/xilinx/jupyter_notebooks/FGPU/notebooks/OpenCL_code/compass_edge_detection.cl\n",
      "Compiling succeeded!\n",
      "\n",
      "\n"
     ]
    }
   ],
   "source": [
    "fgpu.set_kernel_file(\"OpenCL_code/compass_edge_detection.cl\")\n",
    "fgpu.compile_kernel(False, False)"
   ]
  },
  {
   "cell_type": "markdown",
   "metadata": {},
   "source": [
    "## Read Input Image & Allocate Memory"
   ]
  },
  {
   "cell_type": "code",
   "execution_count": 7,
   "metadata": {},
   "outputs": [],
   "source": [
    "from pynq import allocate\n",
    "import scipy.misc\n",
    "import sys\n",
    "from cffi import FFI\n",
    "import numpy as np\n",
    "ffi = FFI()\n",
    "\n",
    "#read input image\n",
    "img=scipy.misc.face()\n",
    "nRows, nCols = img.shape[0:2]; # get image dimensions\n",
    "length = nRows*nCols # length of input and output array\n",
    "\n",
    "# Allocate continuous memory for kernel parameters\n",
    "img_ptr = allocate(shape=(length,), dtype='int')\n",
    "edges_fgpu = allocate(shape=(length,), dtype='int')\n",
    "\n",
    "# copy the input image to CMA region\n",
    "if type(img) == np.ndarray:\n",
    "    ffi.memmove(img_ptr, img, img.size*img.dtype.itemsize) \n",
    "else:\n",
    "    AssertionError()"
   ]
  },
  {
   "cell_type": "markdown",
   "metadata": {},
   "source": [
    "## Configure Kernel"
   ]
  },
  {
   "cell_type": "code",
   "execution_count": 8,
   "metadata": {
    "scrolled": true
   },
   "outputs": [],
   "source": [
    "# bind allocated memory to kenel parameters\n",
    "fgpu.set_paramerter(0, img_ptr)\n",
    "fgpu.set_paramerter(1, edges_fgpu)\n",
    "# setup index space\n",
    "fgpu.set_num_dimensions(2)\n",
    "fgpu.set_size(size=nCols, dim=0)\n",
    "fgpu.set_size(size=nRows, dim=1)\n",
    "fgpu.set_work_group_size(wg_size=8, dim=0)\n",
    "fgpu.set_work_group_size(wg_size=8, dim=1)\n",
    "fgpu.set_offset(value=0, dim=0)\n",
    "fgpu.set_offset(value=0, dim=1)"
   ]
  },
  {
   "cell_type": "markdown",
   "metadata": {},
   "source": [
    "## Execute On FGPU"
   ]
  },
  {
   "cell_type": "code",
   "execution_count": 9,
   "metadata": {
    "scrolled": true
   },
   "outputs": [
    {
     "name": "stdout",
     "output_type": "stream",
     "text": [
      "Execution time = 805 ms\n"
     ]
    }
   ],
   "source": [
    "#download kernel binary code and settings to hardware\n",
    "fgpu.download_kernel()\n",
    "#execute and wait until finish\n",
    "execTime = fgpu.execute_kernel()\n",
    "print (\"Execution time =\", int(execTime*1000), \"ms\")"
   ]
  },
  {
   "cell_type": "markdown",
   "metadata": {},
   "source": [
    "## Compute without FGPU\n",
    "Here the same task will be executed in python "
   ]
  },
  {
   "cell_type": "code",
   "execution_count": 67,
   "metadata": {
    "scrolled": false
   },
   "outputs": [
    {
     "name": "stdout",
     "output_type": "stream",
     "text": [
      "Execution time = 2288 ms\n"
     ]
    }
   ],
   "source": [
    "img=scipy.misc.face()\n",
    "\n",
    "import numpy as np\n",
    "import scipy.misc \n",
    "import scipy.ndimage\n",
    "import time\n",
    "from matplotlib import pyplot as plt\n",
    "\n",
    "def detect_edges(image,masks):\n",
    "    # This function filters \"image\" with all filters in \"masks\" and returns the maxilim result for each pixel\n",
    "    edges = abs(scipy.ndimage.convolve(image,masks[0]))\n",
    "    for mask in masks[1:4]:\n",
    "        edges=np.maximum(abs(scipy.ndimage.convolve(image,mask)), edges)\n",
    "    return edges\n",
    "\n",
    "# Sobel operators for edge detection\n",
    "Sobel=[\n",
    "        [\n",
    "        [-1,+0,+1],\n",
    "        [-2,+0,+2],\n",
    "        [-1,+0,+1]\n",
    "        ],\n",
    "        [\n",
    "        [-2,-1,+0],\n",
    "        [-1,+0,+1],\n",
    "        [+0,+1,+2]\n",
    "        ],\n",
    "        [\n",
    "        [-1,-2,-1],\n",
    "        [+0,+0,+0],\n",
    "        [+1,+2,+1]\n",
    "        ],\n",
    "        [\n",
    "        [-0,-1,-2],\n",
    "        [+1,+0,-1],\n",
    "        [+2,+1,+0]\n",
    "        ] \n",
    "]\n",
    "\n",
    "#compute task\n",
    "start = time.time()\n",
    "#img = img[:,:,:,None]\n",
    "Sobel = numpy.array(Sobel)\n",
    "Sobel = Sobel[:,:,:,None]\n",
    "edges=detect_edges(img, Sobel)\n",
    "finalOutput = edges.squeeze()\n",
    "end = time.time()\n",
    "print (\"Execution time =\", int((end-start)*1000), \"ms\")\n",
    "\n",
    "\n",
    "#plot input and output images\n",
    "#plt.figure(1, figsize=(10, 10))\n",
    "#plt.subplot(121),plt.imshow(img, cmap='Greys_r'),plt.title('Original')\n",
    "#plt.xticks([]), plt.yticks([])\n",
    "#plt.subplot(122),plt.imshow(edges, cmap='Greys_r'),plt.title('Edges')\n",
    "#plt.xticks([]), plt.yticks([])\n",
    "#plt.show()"
   ]
  }
 ],
 "metadata": {
  "kernelspec": {
   "display_name": "Python 3",
   "language": "python",
   "name": "python3"
  },
  "language_info": {
   "codemirror_mode": {
    "name": "ipython",
    "version": 3
   },
   "file_extension": ".py",
   "mimetype": "text/x-python",
   "name": "python",
   "nbconvert_exporter": "python",
   "pygments_lexer": "ipython3",
   "version": "3.8.10"
  }
 },
 "nbformat": 4,
 "nbformat_minor": 1
}
