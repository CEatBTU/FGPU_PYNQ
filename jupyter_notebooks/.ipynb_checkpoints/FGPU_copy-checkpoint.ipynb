{
 "cells": [
  {
   "cell_type": "markdown",
   "metadata": {},
   "source": [
    "# Copy Kernel\n",
    "This kernel simply operates like a DMA. It copies a region of a given size within the global memory."
   ]
  },
  {
   "cell_type": "markdown",
   "metadata": {},
   "source": [
    "## Kernel Code\n",
    "The OpenCL code of your kernel can be edited here. It will be atomatically saved to the file named in the first line."
   ]
  },
  {
   "cell_type": "code",
   "execution_count": 2,
   "metadata": {},
   "outputs": [
    {
     "name": "stdout",
     "output_type": "stream",
     "text": [
      "Overwriting ../OpenCL_code/copy.cl\n"
     ]
    }
   ],
   "source": [
    "%%writefile OpenCL_code/copy.cl\n",
    "\n",
    "#include \"FGPUlib.c\"\n",
    "\n",
    "__kernel void copy_word(__global int *in, __global int *out) {\n",
    "    int index = get_global_id(0);\n",
    "    out[index] = in[index];\n",
    "}"
   ]
  },
  {
   "cell_type": "markdown",
   "metadata": {},
   "source": [
    "## Create Objects"
   ]
  },
  {
   "cell_type": "code",
   "execution_count": 3,
   "metadata": {
    "scrolled": false
   },
   "outputs": [
    {
     "data": {
      "application/javascript": [
       "\n",
       "try {\n",
       "require(['notebook/js/codecell'], function(codecell) {\n",
       "  codecell.CodeCell.options_default.highlight_modes[\n",
       "      'magic_text/x-csrc'] = {'reg':[/^%%microblaze/]};\n",
       "  Jupyter.notebook.events.one('kernel_ready.Kernel', function(){\n",
       "      Jupyter.notebook.get_cells().map(function(cell){\n",
       "          if (cell.cell_type == 'code'){ cell.auto_highlight(); } }) ;\n",
       "  });\n",
       "});\n",
       "} catch (e) {};\n"
      ]
     },
     "metadata": {},
     "output_type": "display_data"
    },
    {
     "data": {
      "application/javascript": [
       "\n",
       "try {\n",
       "require(['notebook/js/codecell'], function(codecell) {\n",
       "  codecell.CodeCell.options_default.highlight_modes[\n",
       "      'magic_text/x-csrc'] = {'reg':[/^%%pybind11/]};\n",
       "  Jupyter.notebook.events.one('kernel_ready.Kernel', function(){\n",
       "      Jupyter.notebook.get_cells().map(function(cell){\n",
       "          if (cell.cell_type == 'code'){ cell.auto_highlight(); } }) ;\n",
       "  });\n",
       "});\n",
       "} catch (e) {};\n"
      ]
     },
     "metadata": {},
     "output_type": "display_data"
    }
   ],
   "source": [
    "import sys\n",
    "sys.path.append(\"../FGPU/FGPU\")\n",
    "from FGPU import FGPU\n",
    "\n",
    "fgpu= FGPU()"
   ]
  },
  {
   "cell_type": "markdown",
   "metadata": {},
   "source": [
    "## Program Hardware"
   ]
  },
  {
   "cell_type": "code",
   "execution_count": 4,
   "metadata": {},
   "outputs": [],
   "source": [
    "fgpu.set_bitFile(\"../bitstreams/PYNQ/1CU_fp_100MHz.bit\")\n",
    "fgpu.download_bitstream()"
   ]
  },
  {
   "cell_type": "markdown",
   "metadata": {},
   "source": [
    "## Compile Kernel"
   ]
  },
  {
   "cell_type": "markdown",
   "metadata": {},
   "source": [
    "#### compile_kernels parameters: \n",
    "0 (true/false) -> output the logs (print compiled code as objdump)\n",
    "\n",
    "1 (true/false) -> floating point support"
   ]
  },
  {
   "cell_type": "code",
   "execution_count": 6,
   "metadata": {
    "scrolled": false
   },
   "outputs": [
    {
     "name": "stdout",
     "output_type": "stream",
     "text": [
      "Compiling /home/xilinx/jupyter_notebooks/FGPU/notebooks/OpenCL_code/copy.cl\n",
      "Compiling succeeded!\n",
      "\n",
      "\n",
      "\n",
      "/home/xilinx/tmp/FGPU_IPython/FGPU/code.bin:\tfile format ELF32-fgpu\n",
      "\n",
      "Disassembly of section .text:\n",
      "copy_word:\n",
      "       0:\t22 00 00 a8 \tlp\tr2, 1\n",
      "       4:\t03 00 00 a8 \tlp\tr3, 0\n",
      "       8:\t04 00 00 a0 \tlid\tr4, 0\n",
      "       c:\t05 00 00 a1 \twgoff\tr5, 0\n",
      "      10:\ta1 10 00 10 \tadd\tr1, r5, r4\n",
      "      14:\t23 0c 00 74 \tlw\tr3, r3[r1]\n",
      "      18:\t23 08 00 7c \tsw\tr3, r2[r1]\n",
      "      1c:\t00 00 00 92 \tret\n",
      "\n"
     ]
    }
   ],
   "source": [
    "fgpu.set_kernel_file(\"OpenCL_code/copy.cl\")\n",
    "fgpu.compile_kernel(True, False)"
   ]
  },
  {
   "cell_type": "markdown",
   "metadata": {},
   "source": [
    "## Allocate Memory"
   ]
  },
  {
   "cell_type": "code",
   "execution_count": 7,
   "metadata": {},
   "outputs": [],
   "source": [
    "from pynq import allocate\n",
    "length = 256*1024 # length of input and output array\n",
    "src = allocate(shape=(length,), dtype='int')\n",
    "dst = allocate(shape=(length,), dtype='int')"
   ]
  },
  {
   "cell_type": "markdown",
   "metadata": {},
   "source": [
    "## Initialize Memory"
   ]
  },
  {
   "cell_type": "code",
   "execution_count": 8,
   "metadata": {},
   "outputs": [],
   "source": [
    "# initialize the region to be copied with some content\n",
    "for i in range(0, length):\n",
    "    src[i] = i\n",
    "    dst[i] = 0"
   ]
  },
  {
   "cell_type": "markdown",
   "metadata": {},
   "source": [
    "## Configure Kernel"
   ]
  },
  {
   "cell_type": "code",
   "execution_count": 9,
   "metadata": {},
   "outputs": [],
   "source": [
    "# bind allocated memory to kenel parameters\n",
    "fgpu.set_paramerter(0, src)\n",
    "fgpu.set_paramerter(1, dst)\n",
    "# setup index space\n",
    "fgpu.set_num_dimensions(1)\n",
    "fgpu.set_size(length)\n",
    "fgpu.set_work_group_size(64)\n",
    "fgpu.set_offset(0)"
   ]
  },
  {
   "cell_type": "markdown",
   "metadata": {},
   "source": [
    "## Execute on FGPU"
   ]
  },
  {
   "cell_type": "code",
   "execution_count": 10,
   "metadata": {},
   "outputs": [
    {
     "name": "stdout",
     "output_type": "stream",
     "text": [
      "Execution time = 30265 us\n"
     ]
    }
   ],
   "source": [
    "#download kernel binary code and settings to hardware\n",
    "fgpu.download_kernel()\n",
    "\n",
    "#execute and wait until finish\n",
    "execTime = fgpu.execute_kernel()\n",
    "print (\"Execution time =\", int(execTime*1000000), \"us\")"
   ]
  },
  {
   "cell_type": "markdown",
   "metadata": {},
   "source": [
    "## Execute with memcopy (in the ARM)\n",
    "Here the same task will be executed in python"
   ]
  },
  {
   "cell_type": "code",
   "execution_count": 11,
   "metadata": {
    "scrolled": true
   },
   "outputs": [
    {
     "name": "stdout",
     "output_type": "stream",
     "text": [
      "Execution time = 1005935 us\n"
     ]
    }
   ],
   "source": [
    "import time\n",
    "# allocate destination\n",
    "dst2 = allocate(shape=(length,), dtype='int')\n",
    "\n",
    "#execute and measure time\n",
    "start = time.time()\n",
    "for i in range (0,length):\n",
    "    dst2[i]=src[i]\n",
    "end = time.time()\n",
    "print (\"Execution time =\", int((end-start)*1000000), \"us\")"
   ]
  }
 ],
 "metadata": {
  "kernelspec": {
   "display_name": "Python 3",
   "language": "python",
   "name": "python3"
  },
  "language_info": {
   "codemirror_mode": {
    "name": "ipython",
    "version": 3
   },
   "file_extension": ".py",
   "mimetype": "text/x-python",
   "name": "python",
   "nbconvert_exporter": "python",
   "pygments_lexer": "ipython3",
   "version": "3.8.10"
  }
 },
 "nbformat": 4,
 "nbformat_minor": 1
}
